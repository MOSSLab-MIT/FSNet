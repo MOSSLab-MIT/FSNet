{
 "cells": [
  {
   "cell_type": "code",
   "execution_count": 28,
   "id": "5b963770",
   "metadata": {},
   "outputs": [],
   "source": [
    "import pickle\n",
    "import matplotlib.pyplot as plt\n",
    "import numpy as np\n",
    "import pandas as pd\n",
    "\n",
    "\n",
    "def load_results(file_path):\n",
    "    \"\"\"\n",
    "    Load results from a pickle file.\n",
    "\n",
    "    Args:\n",
    "        file_path (str): Path to the pickle file.\n",
    "\n",
    "    Returns:\n",
    "        dict: Dictionary containing the loaded results.\n",
    "    \"\"\"\n",
    "    try:\n",
    "        with open(file_path, 'rb') as f:\n",
    "            results = pickle.load(f)\n",
    "        return results\n",
    "    except Exception as e:\n",
    "        print(f\"Error loading {file_path}: {e}\")\n",
    "        return None "
   ]
  },
  {
   "cell_type": "code",
   "execution_count": 36,
   "id": "27070502",
   "metadata": {},
   "outputs": [],
   "source": [
    "method = \"FSNet\"\n",
    "prob_type = \"nonconvex\"\n",
    "prob_name = \"qp\"\n",
    "seed = 2025\n",
    "dir_path = f\"{prob_type}/{prob_name}/{prob_name.upper()}Problem-100-50-50-10000/MLP_{method}/results_seed{seed}.pkl\"\n",
    "\n",
    "results = load_results(dir_path)"
   ]
  },
  {
   "cell_type": "code",
   "execution_count": 49,
   "id": "ccae1059",
   "metadata": {},
   "outputs": [
    {
     "data": {
      "text/html": [
       "<style type=\"text/css\">\n",
       "#T_800ca_row0_col0, #T_800ca_row0_col1, #T_800ca_row0_col2, #T_800ca_row0_col3, #T_800ca_row0_col4, #T_800ca_row0_col5, #T_800ca_row0_col6, #T_800ca_row0_col7, #T_800ca_row0_col8, #T_800ca_row1_col0, #T_800ca_row1_col1, #T_800ca_row1_col2, #T_800ca_row1_col3, #T_800ca_row1_col4, #T_800ca_row1_col5, #T_800ca_row1_col6, #T_800ca_row1_col7, #T_800ca_row1_col8 {\n",
       "  text-align: center;\n",
       "}\n",
       "</style>\n",
       "<table id=\"T_800ca\">\n",
       "  <thead>\n",
       "    <tr>\n",
       "      <th class=\"blank level0\" >&nbsp;</th>\n",
       "      <th id=\"T_800ca_level0_col0\" class=\"col_heading level0 col0\" >Batch Size</th>\n",
       "      <th id=\"T_800ca_level0_col1\" class=\"col_heading level0 col1\" >Opt Gap Mean (%)</th>\n",
       "      <th id=\"T_800ca_level0_col2\" class=\"col_heading level0 col2\" >Opt Gap Std (%)</th>\n",
       "      <th id=\"T_800ca_level0_col3\" class=\"col_heading level0 col3\" >Opt Gap Max (%)</th>\n",
       "      <th id=\"T_800ca_level0_col4\" class=\"col_heading level0 col4\" >Eq Violation Mean</th>\n",
       "      <th id=\"T_800ca_level0_col5\" class=\"col_heading level0 col5\" >Eq Violation Max</th>\n",
       "      <th id=\"T_800ca_level0_col6\" class=\"col_heading level0 col6\" >Ineq Violation Mean</th>\n",
       "      <th id=\"T_800ca_level0_col7\" class=\"col_heading level0 col7\" >Ineq Violation Max</th>\n",
       "      <th id=\"T_800ca_level0_col8\" class=\"col_heading level0 col8\" >Average Batch Time (s)</th>\n",
       "    </tr>\n",
       "  </thead>\n",
       "  <tbody>\n",
       "    <tr>\n",
       "      <th id=\"T_800ca_level0_row0\" class=\"row_heading level0 row0\" >0</th>\n",
       "      <td id=\"T_800ca_row0_col0\" class=\"data row0 col0\" >256</td>\n",
       "      <td id=\"T_800ca_row0_col1\" class=\"data row0 col1\" >2.4503</td>\n",
       "      <td id=\"T_800ca_row0_col2\" class=\"data row0 col2\" >0.0608</td>\n",
       "      <td id=\"T_800ca_row0_col3\" class=\"data row0 col3\" >8.5793</td>\n",
       "      <td id=\"T_800ca_row0_col4\" class=\"data row0 col4\" >1.24e-04</td>\n",
       "      <td id=\"T_800ca_row0_col5\" class=\"data row0 col5\" >6.04e-04</td>\n",
       "      <td id=\"T_800ca_row0_col6\" class=\"data row0 col6\" >2.78e-07</td>\n",
       "      <td id=\"T_800ca_row0_col7\" class=\"data row0 col7\" >1.25e-05</td>\n",
       "      <td id=\"T_800ca_row0_col8\" class=\"data row0 col8\" >0.0714</td>\n",
       "    </tr>\n",
       "    <tr>\n",
       "      <th id=\"T_800ca_level0_row1\" class=\"row_heading level0 row1\" >1</th>\n",
       "      <td id=\"T_800ca_row1_col0\" class=\"data row1 col0\" >512</td>\n",
       "      <td id=\"T_800ca_row1_col1\" class=\"data row1 col1\" >2.4518</td>\n",
       "      <td id=\"T_800ca_row1_col2\" class=\"data row1 col2\" >0.0503</td>\n",
       "      <td id=\"T_800ca_row1_col3\" class=\"data row1 col3\" >8.8813</td>\n",
       "      <td id=\"T_800ca_row1_col4\" class=\"data row1 col4\" >1.25e-04</td>\n",
       "      <td id=\"T_800ca_row1_col5\" class=\"data row1 col5\" >6.49e-04</td>\n",
       "      <td id=\"T_800ca_row1_col6\" class=\"data row1 col6\" >2.82e-07</td>\n",
       "      <td id=\"T_800ca_row1_col7\" class=\"data row1 col7\" >1.67e-05</td>\n",
       "      <td id=\"T_800ca_row1_col8\" class=\"data row1 col8\" >0.0790</td>\n",
       "    </tr>\n",
       "  </tbody>\n",
       "</table>\n"
      ],
      "text/plain": [
       "<pandas.io.formats.style.Styler at 0x756884653010>"
      ]
     },
     "metadata": {},
     "output_type": "display_data"
    }
   ],
   "source": [
    "\n",
    "# Get batch comparison data from the loaded results\n",
    "batch_comparison = results['test_results']['batch_size_comparison']\n",
    "\n",
    "# Create a more readable DataFrame by expanding the metrics\n",
    "readable_data = []\n",
    "for batch_size, data in batch_comparison.items():\n",
    "    metrics = data['metrics']\n",
    "    row = {\n",
    "        'Batch Size': batch_size,\n",
    "        'Opt Gap Mean (%)': f\"{metrics['opt_gap_mean']*100:.4f}\",\n",
    "        'Opt Gap Std (%)': f\"{metrics['opt_gap_std']*100:.4f}\",\n",
    "        'Opt Gap Max (%)': f\"{metrics['opt_gap_max']*100:.4f}\",\n",
    "        'Eq Violation Mean': f\"{metrics['eq_violation_l1_mean']:.2e}\",\n",
    "        'Eq Violation Max': f\"{metrics['eq_violation_l1_max']:.2e}\",\n",
    "        'Ineq Violation Mean': f\"{metrics['ineq_violation_l1_mean']:.2e}\",\n",
    "        'Ineq Violation Max': f\"{metrics['ineq_violation_l1_max']:.2e}\",\n",
    "        'Average Batch Time (s)': f\"{metrics['avg_inference_time']:.4f}\",\n",
    "    }\n",
    "    readable_data.append(row)\n",
    "\n",
    "df_readable = pd.DataFrame(readable_data)\n",
    "df_readable_styled = df_readable.style.set_properties(**{'text-align': 'center'})\n",
    "display(df_readable_styled)"
   ]
  }
 ],
 "metadata": {
  "kernelspec": {
   "display_name": "opt",
   "language": "python",
   "name": "python3"
  },
  "language_info": {
   "codemirror_mode": {
    "name": "ipython",
    "version": 3
   },
   "file_extension": ".py",
   "mimetype": "text/x-python",
   "name": "python",
   "nbconvert_exporter": "python",
   "pygments_lexer": "ipython3",
   "version": "3.10.13"
  }
 },
 "nbformat": 4,
 "nbformat_minor": 5
}
